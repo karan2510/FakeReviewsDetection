{
 "cells": [
  {
   "cell_type": "code",
   "execution_count": 1,
   "metadata": {},
   "outputs": [
    {
     "name": "stdout",
     "output_type": "stream",
     "text": [
      "3626\n"
     ]
    },
    {
     "data": {
      "text/html": [
       "<div>\n",
       "<style scoped>\n",
       "    .dataframe tbody tr th:only-of-type {\n",
       "        vertical-align: middle;\n",
       "    }\n",
       "\n",
       "    .dataframe tbody tr th {\n",
       "        vertical-align: top;\n",
       "    }\n",
       "\n",
       "    .dataframe thead th {\n",
       "        text-align: right;\n",
       "    }\n",
       "</style>\n",
       "<table border=\"1\" class=\"dataframe\">\n",
       "  <thead>\n",
       "    <tr style=\"text-align: right;\">\n",
       "      <th></th>\n",
       "      <th>rating</th>\n",
       "      <th>reviewUsefulCount</th>\n",
       "      <th>coolCount</th>\n",
       "      <th>funnyCount</th>\n",
       "      <th>Sentiment</th>\n",
       "    </tr>\n",
       "  </thead>\n",
       "  <tbody>\n",
       "    <tr>\n",
       "      <th>1646</th>\n",
       "      <td>5</td>\n",
       "      <td>0</td>\n",
       "      <td>1.0</td>\n",
       "      <td>0.0</td>\n",
       "      <td>0.9702</td>\n",
       "    </tr>\n",
       "    <tr>\n",
       "      <th>3375</th>\n",
       "      <td>5</td>\n",
       "      <td>0</td>\n",
       "      <td>2.0</td>\n",
       "      <td>0.0</td>\n",
       "      <td>0.8860</td>\n",
       "    </tr>\n",
       "    <tr>\n",
       "      <th>723</th>\n",
       "      <td>4</td>\n",
       "      <td>0</td>\n",
       "      <td>6.0</td>\n",
       "      <td>21.0</td>\n",
       "      <td>0.9862</td>\n",
       "    </tr>\n",
       "    <tr>\n",
       "      <th>3040</th>\n",
       "      <td>5</td>\n",
       "      <td>1</td>\n",
       "      <td>3.0</td>\n",
       "      <td>3.0</td>\n",
       "      <td>0.9891</td>\n",
       "    </tr>\n",
       "    <tr>\n",
       "      <th>1344</th>\n",
       "      <td>4</td>\n",
       "      <td>0</td>\n",
       "      <td>1.0</td>\n",
       "      <td>0.0</td>\n",
       "      <td>0.9871</td>\n",
       "    </tr>\n",
       "  </tbody>\n",
       "</table>\n",
       "</div>"
      ],
      "text/plain": [
       "      rating  reviewUsefulCount  coolCount  funnyCount  Sentiment\n",
       "1646       5                  0        1.0         0.0     0.9702\n",
       "3375       5                  0        2.0         0.0     0.8860\n",
       "723        4                  0        6.0        21.0     0.9862\n",
       "3040       5                  1        3.0         3.0     0.9891\n",
       "1344       4                  0        1.0         0.0     0.9871"
      ]
     },
     "execution_count": 1,
     "metadata": {},
     "output_type": "execute_result"
    }
   ],
   "source": [
    "import requests\n",
    "from vaderSentiment.vaderSentiment import SentimentIntensityAnalyzer\n",
    "import pandas as pd\n",
    "import csv\n",
    "import numpy as np\n",
    "\n",
    "sia =SentimentIntensityAnalyzer()\n",
    "def get_sentiment_of(sentence_in):\n",
    "    try:\n",
    "        scrs=sia.polarity_scores(sentence_in)\n",
    "        the_important_one=scrs['compound']\n",
    "    except:\n",
    "        the_important_one=0\n",
    "    return the_important_one\n",
    "\n",
    "df = pd.read_csv('yelp_reviews_chicago_labeled.csv')\n",
    "df2 = df.drop(['reviewID', 'restaurantID', 'reviewerID', 'date', 'name', 'location', 'yelpJoinDate', 'mnr', 'rl', 'rd', 'Maximum Content Similarity'], axis = 1)\n",
    "df2 = df2.drop(['friendCount', 'reviewCount', 'firstCount', 'usefulCount', 'complimentCount', 'tipCount', 'fanCount', 'restaurantRating'], axis = 1)\n",
    "f = df2['reviewContent']\n",
    "sent = list()\n",
    "for rows in f:\n",
    "    #print(rows)\n",
    "    sent.append(get_sentiment_of(rows))\n",
    "print(len(sent))\n",
    "\n",
    "df2['Sentiment'] = sent\n",
    "df_final = df2.drop(['reviewContent'], axis = 1)\n",
    "fields_with_nan_length = df_final.isna().sum().where(lambda x : x > 0).dropna()\n",
    "df_final = df_final.iloc[:-1, :]\n",
    "authentic_reviews_df = df_final[df_final['flagged'] == 'N']\n",
    "fake_reviews_df = df_final[df_final['flagged'] == 'Y']\n",
    "authentic_reviews_df = authentic_reviews_df.sample(n = 500)\n",
    "df_final = pd.concat([authentic_reviews_df , fake_reviews_df])\n",
    "df_final['flagged'] = [0 if x == 'N' else 1 for x in df_final['flagged']]\n",
    "flagged = df_final['flagged']\n",
    "df_final = df_final.drop(['flagged'], axis=1)\n",
    "df_final = pd.concat([df_final,flagged], axis=1)\n",
    "X = df_final.iloc[:, :-1]\n",
    "y = flagged\n",
    "X.head()\n",
    "\n"
   ]
  },
  {
   "cell_type": "code",
   "execution_count": 2,
   "metadata": {},
   "outputs": [],
   "source": [
    "from sklearn.model_selection import train_test_split, StratifiedKFold\n",
    "from sklearn.metrics import accuracy_score\n",
    "from sklearn import metrics\n",
    "from sklearn.ensemble import RandomForestClassifier\n",
    "from sklearn.model_selection import cross_val_score"
   ]
  },
  {
   "cell_type": "code",
   "execution_count": 3,
   "metadata": {},
   "outputs": [],
   "source": [
    "X_train, X_test, y_train, y_test = train_test_split(X, y, test_size=0.2, random_state = 1)"
   ]
  },
  {
   "cell_type": "code",
   "execution_count": 4,
   "metadata": {},
   "outputs": [
    {
     "name": "stdout",
     "output_type": "stream",
     "text": [
      "phase1\n",
      "phase2\n",
      "phase3\n",
      "Accuracy Score:\n",
      "0.8205128205128205\n"
     ]
    }
   ],
   "source": [
    "from sklearn.svm import SVC\n",
    "from sklearn import metrics\n",
    "from sklearn.metrics import confusion_matrix\n",
    "\n",
    "print(\"phase1\")\n",
    "svc = SVC(kernel = 'linear', gamma = 1.0)\n",
    "print(\"phase2\")\n",
    "svc.fit(X_train, y_train)\n",
    "print(\"phase3\")\n",
    "y_pred = svc.predict(X_test)\n",
    "print('Accuracy Score:')\n",
    "print(metrics.accuracy_score(y_test, y_pred))"
   ]
  },
  {
   "cell_type": "code",
   "execution_count": 5,
   "metadata": {},
   "outputs": [
    {
     "name": "stdout",
     "output_type": "stream",
     "text": [
      "              precision    recall  f1-score   support\n",
      "\n",
      "           0       0.99      0.66      0.79       100\n",
      "           1       0.73      0.99      0.84        95\n",
      "\n",
      "   micro avg       0.82      0.82      0.82       195\n",
      "   macro avg       0.86      0.82      0.82       195\n",
      "weighted avg       0.86      0.82      0.82       195\n",
      "\n"
     ]
    }
   ],
   "source": [
    "from sklearn.metrics import confusion_matrix, classification_report\n",
    "\n",
    "print(classification_report(y_test, y_pred))\n",
    "dt_cm = confusion_matrix(y_test,y_pred )"
   ]
  },
  {
   "cell_type": "code",
   "execution_count": null,
   "metadata": {},
   "outputs": [],
   "source": []
  }
 ],
 "metadata": {
  "kernelspec": {
   "display_name": "Python 3",
   "language": "python",
   "name": "python3"
  },
  "language_info": {
   "codemirror_mode": {
    "name": "ipython",
    "version": 3
   },
   "file_extension": ".py",
   "mimetype": "text/x-python",
   "name": "python",
   "nbconvert_exporter": "python",
   "pygments_lexer": "ipython3",
   "version": "3.7.3"
  }
 },
 "nbformat": 4,
 "nbformat_minor": 2
}
